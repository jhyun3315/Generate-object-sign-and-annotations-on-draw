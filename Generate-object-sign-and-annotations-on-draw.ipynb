{
 "cells": [
  {
   "cell_type": "markdown",
   "metadata": {},
   "source": [
    "# Generate object(sign) and annotations on draw"
   ]
  },
  {
   "cell_type": "code",
   "execution_count": 1,
   "metadata": {},
   "outputs": [],
   "source": [
    "%matplotlib inline\n",
    "from matplotlib import pyplot as plt\n",
    "import os, sys\n",
    "from glob import glob\n",
    "from matplotlib import pyplot\n",
    "\n",
    "from PIL import Image\n",
    "from PIL import EpsImagePlugin\n",
    "import math\n",
    "\n",
    "from PIL import ImageFilter\n",
    "import numpy as np\n",
    "\n",
    "from lxml import etree\n",
    "import xml.etree.ElementTree as xml\n",
    "import random\n",
    "import cv2\n",
    "\n",
    "from sklearn.cluster import KMeans"
   ]
  },
  {
   "cell_type": "markdown",
   "metadata": {},
   "source": [
    "# preprocessing (CAD Img)"
   ]
  },
  {
   "cell_type": "code",
   "execution_count": null,
   "metadata": {},
   "outputs": [],
   "source": [
    "im = cv2.imread('./data/dataset/1-f_pan.png')\n",
    "\n",
    "ret1, im1 = cv2.threshold(im,100,255, cv2.THRESH_BINARY_INV)\n",
    "ret2, im2 = cv2.threshold(im,150,255, cv2.THRESH_BINARY_INV)\n",
    "ret3, im3 = cv2.threshold(im,175,255, cv2.THRESH_BINARY_INV)\n",
    "ret4, im4 = cv2.threshold(im,200,255, cv2.THRESH_BINARY_INV)\n",
    "ret5, im5 = cv2.threshold(im,250,255, cv2.THRESH_BINARY_INV)\n",
    "\n",
    "cv2.imwrite('./data/test1.png', im1)\n",
    "cv2.imwrite('./data/test2.png', im2)\n",
    "cv2.imwrite('./data/test3.png', im3)\n",
    "cv2.imwrite('./data/test4.png', im4)\n",
    "cv2.imwrite('./data/test5.png', im5)"
   ]
  },
  {
   "cell_type": "code",
   "execution_count": 97,
   "metadata": {},
   "outputs": [
    {
     "data": {
      "text/plain": [
       "True"
      ]
     },
     "execution_count": 97,
     "metadata": {},
     "output_type": "execute_result"
    }
   ],
   "source": [
    "im = cv2.imread('./data/dataset/1-f_pan.png')\n",
    "ret, imGray = cv2.threshold(im,150,255, cv2.THRESH_BINARY_INV)\n",
    "\n",
    "gray = cv2.cvtColor(imGray, cv2.COLOR_BGR2GRAY)\n",
    "cv2.imwrite('./data/GrayTest.png', gray)"
   ]
  },
  {
   "cell_type": "code",
   "execution_count": 100,
   "metadata": {},
   "outputs": [],
   "source": [
    "im = Image.open('./data/dataset/1-f_pan.png')\n",
    "    \n",
    "data = np.array(im)\n",
    "\n",
    "r1, g1, b1 = 0,0,0  # Original value\n",
    "r2, g2, b2 = 255,255,255 # Value that we want to replace it with\n",
    "\n",
    "red, green, blue = data[:,:,0], data[:,:,1], data[:,:,2]\n",
    "mask = (red == r1) & (green == g1) & (blue == b1)\n",
    "data[:,:,:3][mask] = [r2, g2, b2]\n",
    "\n",
    "im = Image.fromarray(data)    \n",
    "imDir = './data/TTEST.png'\n",
    "im.save(imDir)"
   ]
  },
  {
   "cell_type": "code",
   "execution_count": 98,
   "metadata": {},
   "outputs": [
    {
     "data": {
      "text/plain": [
       "True"
      ]
     },
     "execution_count": 98,
     "metadata": {},
     "output_type": "execute_result"
    }
   ],
   "source": [
    "im = cv2.imread('./data/dataset/1-f_pan.png',cv2.IMREAD_GRAYSCALE)\n",
    "cv2.imwrite('./data/Gray.png', im)\n",
    "\n",
    "ret, imGray = cv2.threshold(im,150,255, cv2.THRESH_BINARY_INV)\n",
    "cv2.imwrite('./data/testGray.png', imGray)"
   ]
  },
  {
   "cell_type": "code",
   "execution_count": 185,
   "metadata": {},
   "outputs": [],
   "source": [
    "im = Image.open('./data/TTEST.png')\n",
    "    \n",
    "data = np.array(im)\n",
    "\n",
    "\n",
    "r1, g1, b1 = 255,255,128  # Original value\n",
    "r2, g2, b2 = 255,0,0 # Value that we want to replace it with\n",
    "\n",
    "red, green, blue = data[:,:,0], data[:,:,1], data[:,:,2]\n",
    "mask = (red == r1) & (green == g1) & (blue == b1)\n",
    "data[:,:,:3][mask] = [r2, g2, b2]\n",
    "\n",
    "im = Image.fromarray(data)    \n",
    "imDir = './data/TTEST22.png'\n",
    "im.save(imDir)"
   ]
  },
  {
   "cell_type": "markdown",
   "metadata": {},
   "source": [
    "# Sign"
   ]
  },
  {
   "cell_type": "code",
   "execution_count": 72,
   "metadata": {},
   "outputs": [
    {
     "data": {
      "text/plain": [
       "True"
      ]
     },
     "execution_count": 72,
     "metadata": {},
     "output_type": "execute_result"
    }
   ],
   "source": [
    "s_img =  cv2.imread('./DT_150.png')\n",
    "\n",
    "blur1 = cv2.blur(s_img, (30,30))\n",
    "blur2 = cv2.GaussianBlur(s_img, (17,17),0)\n",
    "blur3 = cv2.medianBlur(s_img, 11)\n",
    "\n",
    "cv2.imwrite('./TTEST_SIGN1.png',  blur1) \n",
    "cv2.imwrite('./TTEST_SIGN2.png',  blur2) \n",
    "cv2.imwrite('./TTEST_SIGN3.png',  blur3) "
   ]
  },
  {
   "cell_type": "code",
   "execution_count": 103,
   "metadata": {},
   "outputs": [
    {
     "data": {
      "text/plain": [
       "True"
      ]
     },
     "execution_count": 103,
     "metadata": {},
     "output_type": "execute_result"
    }
   ],
   "source": [
    "img =  cv2.imread('./DT_150.png')\n",
    "\n",
    "\n",
    "kernel = np.ones((30, 30), np.uint8)\n",
    "result1 = cv2.erode(img, kernel, iterations = 1)\n",
    "\n",
    "\n",
    "kernel = np.ones((50, 50), np.uint8)\n",
    "result2 = cv2.erode(img, kernel, iterations = 1)\n",
    "\n",
    "kernel = np.ones((70, 70), np.uint8)\n",
    "result3 = cv2.erode(img, kernel, iterations = 1)\n",
    "\n",
    "\n",
    "\n",
    "cv2.imwrite('./TTEST_erode30.png',  result1) \n",
    "cv2.imwrite('./TTEST_erode50.png',  result2) \n",
    "cv2.imwrite('./TTEST_erode70.png',  result3) "
   ]
  },
  {
   "cell_type": "code",
   "execution_count": 108,
   "metadata": {},
   "outputs": [
    {
     "data": {
      "text/plain": [
       "True"
      ]
     },
     "execution_count": 108,
     "metadata": {},
     "output_type": "execute_result"
    }
   ],
   "source": [
    "img =  cv2.imread('./TTEST_erode50.png')\n",
    "\n",
    "kernel = np.ones((15, 15), np.uint8)\n",
    "result = cv2.morphologyEx(img, cv2.MORPH_CLOSE, kernel)\n",
    "\n",
    "\n",
    "cv2.imwrite('./TTEST_erode50_dliate.png',  result ) \n"
   ]
  },
  {
   "cell_type": "code",
   "execution_count": 105,
   "metadata": {},
   "outputs": [
    {
     "data": {
      "text/plain": [
       "True"
      ]
     },
     "execution_count": 105,
     "metadata": {},
     "output_type": "execute_result"
    }
   ],
   "source": [
    "img =  cv2.imread('./DT_150.png')\n",
    "\n",
    "kernel = np.ones((7, 7), np.uint8)\n",
    "result = cv2.morphologyEx(img, cv2.MORPH_CLOSE, kernel)\n",
    "\n",
    "\n",
    "cv2.imwrite('./TTEST_dilate.png',  result ) "
   ]
  },
  {
   "cell_type": "code",
   "execution_count": null,
   "metadata": {},
   "outputs": [],
   "source": [
    "l_img =  cv2.imread('./data/TTEST.png')\n",
    "s_img =  cv2.imread('./DT_150.png',-1)  \n",
    "    \n",
    "alpha_s = s_img[:, :, 3] / 25\n",
    "alpha_l = 1.0 - alpha_s\n",
    "    \n",
    "\n",
    "imName = ChangeColor(signDir,r2,g2,b2)\n",
    "s_img =  cv2.imread(imName,-1)\n",
    "          \n",
    "h,w,d = l_img.shape\n",
    "\n",
    "for c in range(0, 3):\n",
    "    l_img[y1:y2, x1:x2, c] = (alpha_s * s_img[:, :, c] + alpha_l * l_img[y1:y2, x1:x2, c])\n",
    "\n",
    "    cv2.imwrite('./data/TTEST_SIGN.png', l_img)      "
   ]
  },
  {
   "cell_type": "markdown",
   "metadata": {},
   "source": [
    "# preprocessing (Print Img)"
   ]
  },
  {
   "cell_type": "code",
   "execution_count": 19,
   "metadata": {},
   "outputs": [
    {
     "data": {
      "text/plain": [
       "True"
      ]
     },
     "execution_count": 19,
     "metadata": {},
     "output_type": "execute_result"
    }
   ],
   "source": [
    "im = cv2.imread('./data/n_1f.png')\n",
    "ret, im = cv2.threshold(im,200,255, cv2.THRESH_BINARY)\n",
    "cv2.imwrite('./data/Wt_THGray.png', im)\n"
   ]
  },
  {
   "cell_type": "code",
   "execution_count": 15,
   "metadata": {},
   "outputs": [],
   "source": [
    "draw_data = glob('./data/backGround/draw/*.png')\n",
    "sign_data = glob('./data/backGround/sign/*.png')\n",
    "\n",
    "# Reshape Sign \n",
    "size = 20, 20\n",
    "\n",
    "for s in sign_data:\n",
    "    im = Image.open(s)\n",
    "    im.thumbnail(size, Image.ANTIALIAS)\n",
    "    im = im.convert(\"RGBA\")\n",
    "    datas = im.getdata()\n",
    "    newData = []\n",
    "    for item in datas:\n",
    "        if item[0] > 200 and item[1] > 200 and item[2] > 200:\n",
    "            newData.append((item[0], item[1], item[2], 0))\n",
    "        else:\n",
    "            newData.append(item)\n",
    "\n",
    "    im.putdata(newData)\n",
    "    im.save(s)"
   ]
  },
  {
   "cell_type": "markdown",
   "metadata": {},
   "source": [
    "----------------------------------"
   ]
  },
  {
   "cell_type": "markdown",
   "metadata": {},
   "source": [
    "# Change color of sign"
   ]
  },
  {
   "cell_type": "code",
   "execution_count": 3,
   "metadata": {},
   "outputs": [],
   "source": [
    "def ChangeColor(inputImg,r2,g2,b2):\n",
    "    \n",
    "    im = Image.open(inputImg)\n",
    "    im = im.filter(ImageFilter.MaxFilter(size = 3)) \n",
    "    \n",
    "    im = np.array(im)\n",
    "    ret, im = cv2.threshold(im, 247, 255, cv2.THRESH_TOZERO)\n",
    "    data = im\n",
    "    \n",
    "    \n",
    "    imName = inputImg.split('sign/')[1]\n",
    "    imName = imName.split('.png')[0]    \n",
    "\n",
    "    r1, g1, b1 = 0, 0, 0 # Original value\n",
    "    r2, g2, b2 = r2,g2,b2 # Value that we want to replace it with\n",
    "\n",
    "    red, green, blue = data[:,:,0], data[:,:,1], data[:,:,2]\n",
    "    mask = (red == r1) & (green == g1) & (blue == b1)\n",
    "    data[:,:,:3][mask] = [r2, g2, b2]\n",
    "\n",
    "    im = Image.fromarray(data)    \n",
    "    imDir = './data/backGround/New/sign/'+imName+'_r'+str(r2)+'g'+str(g2)+'b'+str(b2)+'.png'\n",
    "    im.save(imDir)\n",
    "    \n",
    "    return imDir"
   ]
  },
  {
   "cell_type": "markdown",
   "metadata": {},
   "source": [
    "# Make n-Sign on Draw with loaction(x,y) information "
   ]
  },
  {
   "cell_type": "code",
   "execution_count": 160,
   "metadata": {},
   "outputs": [],
   "source": [
    "def genData(clss, amount, dr_fileName,r2,g2,b2):\n",
    "    \n",
    "    l_img =  cv2.imread(dr_fileName)\n",
    "    s_img =  cv2.imread('./data/backGround/sign/'+clss+'.png',-1)  \n",
    "    \n",
    "    signDir = './data/backGround/sign/'+clss+'.png'\n",
    "    \n",
    "    alpha_s = s_img[:, :, 3] / 255.0\n",
    "    alpha_l = 1.0 - alpha_s\n",
    "    \n",
    "    dr_fileName = dr_fileName.split('draw/')[1]\n",
    "    dr_fileName = dr_fileName.split('.png')[0]    \n",
    "    \n",
    "    new_dirFileName = './data/draw/dataset/GN_'+dr_fileName+str(random.random())+'.png'          \n",
    "    new_fileName  = new_dirFileName .split('dataset/')[1]\n",
    "\n",
    "    imName = ChangeColor(signDir,r2,g2,b2)\n",
    "    s_img =  cv2.imread(imName,-1)\n",
    "          \n",
    "    h,w,d = l_img.shape\n",
    "      \n",
    "    # make annotations file\n",
    "    root = etree.Element(\"annotation\")\n",
    "\n",
    "    folder = etree.SubElement(root, \"folder\").text ='draw'  \n",
    "    filename =  etree.SubElement(root, \"filename\").text = new_fileName    \n",
    "    path =  etree.SubElement(root, \"path\").text = new_dirFileName\n",
    "\n",
    "    source =  etree.SubElement(root, \"source\")\n",
    "    database =  etree.SubElement(source, \"database\").text= 'Unknown'     \n",
    "    \n",
    "    size =  etree.SubElement(root, \"size\")\n",
    "    width =  etree.SubElement(size, \"width\").text = str(w)\n",
    "    height =  etree.SubElement(size, \"height\").text = str(h)\n",
    "    depth =  etree.SubElement(size, \"depth\").text = str(d)\n",
    "\n",
    "    segmented =  etree.SubElement(root, \"segmented\").text = '0'\n",
    "    \n",
    "       \n",
    "    # generate signs and annotaion files.                               \n",
    "    xmin = random.sample(range(100, w), amount)\n",
    "    ymin = random.sample(range(100, h), amount)\n",
    "\n",
    "    location = list(zip(xmin,ymin))\n",
    "        \n",
    "        \n",
    "    for i in range(len(location)):   \n",
    "            \n",
    "        x1, y1  = location[i]\n",
    "        x2 = x1 + s_img.shape[1]\n",
    "        y2 = y1 + s_img.shape[0]\n",
    "               \n",
    "        print(x1, x2, y1, y2)\n",
    "        \n",
    "        obj =  etree.SubElement(root, \"object\")\n",
    "        name =   etree.SubElement(obj, \"name\").text = clss\n",
    "        poset =   etree.SubElement(obj, \"pose\").text = 'Unspecified'\n",
    "        truncated =   etree.SubElement(obj, \"truncated\").text = '0'\n",
    "        difficult =   etree.SubElement(obj, \"difficult\").text = '0'\n",
    "\n",
    "        bndbox = etree.SubElement(obj, \"bndbox\")\n",
    "        xmin =  etree.SubElement(bndbox, \"xmin\").text = str(x1)\n",
    "        ymin =  etree.SubElement(bndbox, \"ymin\").text = str(y1)\n",
    "        xmax =  etree.SubElement(bndbox, \"xmax\").text = str(x2)\n",
    "        ymax =  etree.SubElement(bndbox, \"ymax\").text = str(y2)\n",
    "        \n",
    "        for c in range(0, 3):\n",
    "            l_img[y1:y2, x1:x2, c] = (alpha_s * s_img[:, :, c] + alpha_l * l_img[y1:y2, x1:x2, c])\n",
    "\n",
    "    cv2.imwrite(new_fileName, l_img)        \n",
    "    tree = etree.ElementTree(root)\n",
    "    \n",
    "    with open('./data/backGround/'+new_fileName+'.xml', \"bw\") as fh:\n",
    "        tree.write(fh)\n",
    "               "
   ]
  },
  {
   "cell_type": "code",
   "execution_count": 6,
   "metadata": {},
   "outputs": [
    {
     "name": "stdout",
     "output_type": "stream",
     "text": [
      "1350 1370 635 646\n",
      "1071 1091 288 299\n",
      "267 287 161 172\n",
      "689 709 129 140\n",
      "1570 1590 910 921\n",
      "900 920 435 446\n",
      "1104 1124 778 789\n",
      "1270 1290 195 206\n",
      "343 363 709 720\n",
      "453 473 510 521\n"
     ]
    }
   ],
   "source": [
    "genData('DT_150',10, './data/backGround/draw/b1.png',255,255,72)"
   ]
  },
  {
   "cell_type": "markdown",
   "metadata": {},
   "source": [
    "----------------------------------"
   ]
  },
  {
   "cell_type": "markdown",
   "metadata": {},
   "source": [
    "# 보완하는 중 .."
   ]
  },
  {
   "cell_type": "code",
   "execution_count": null,
   "metadata": {},
   "outputs": [],
   "source": [
    "# Reshape Sign \n",
    "\n",
    "size = 20, 20\n",
    "\n",
    "for s in sign_data:\n",
    "    im = Image.open(s)\n",
    "    im.thumbnail(size, Image.ANTIALIAS)\n",
    "    im = im.convert(\"RGBA\")\n",
    "    datas = im.getdata()\n",
    "    newData = []\n",
    "    for item in datas:\n",
    "        if item[0] > 200 and item[1] > 200 and item[2] > 200:\n",
    "            newData.append((item[0], item[1], item[2], 0))\n",
    "        else:\n",
    "            newData.append(item)\n",
    "\n",
    "    im.putdata(newData)\n",
    "    im.save(s)"
   ]
  },
  {
   "cell_type": "code",
   "execution_count": null,
   "metadata": {},
   "outputs": [],
   "source": []
  },
  {
   "cell_type": "code",
   "execution_count": 11,
   "metadata": {},
   "outputs": [
    {
     "data": {
      "text/plain": [
       "['./data/backGround/sign/DT_002.png',\n",
       " './data/backGround/sign/DT_001.png',\n",
       " './data/backGround/sign/SM_142.png',\n",
       " './data/backGround/sign/DT_143.png',\n",
       " './data/backGround/sign/SM_126.png',\n",
       " './data/backGround/sign/SM_100.png',\n",
       " './data/backGround/sign/DT_150.png',\n",
       " './data/backGround/sign/MD_019.png',\n",
       " './data/backGround/sign/DT_131.png',\n",
       " './data/backGround/sign/DT_127.png',\n",
       " './data/backGround/sign/DT_177.png']"
      ]
     },
     "execution_count": 11,
     "metadata": {},
     "output_type": "execute_result"
    }
   ],
   "source": [
    "sign_data = glob('./data/backGround/sign/*.png')\n",
    "sign_data "
   ]
  },
  {
   "cell_type": "code",
   "execution_count": 13,
   "metadata": {},
   "outputs": [],
   "source": [
    "\n",
    "draw_data = glob('./data/backGround/draw/*.png')\n",
    "\n",
    "for i in draw_data:\n",
    "    im = cv2.imread(i)\n",
    "    ret, imGray = cv2.threshold(im,150,255, cv2.THRESH_BINARY_INV)\n",
    "\n",
    "    gray = cv2.cvtColor(imGray, cv2.COLOR_BGR2GRAY)\n",
    "    cv2.imwrite(i, gray)"
   ]
  },
  {
   "cell_type": "code",
   "execution_count": null,
   "metadata": {},
   "outputs": [],
   "source": [
    "\n",
    "sign_data = glob('./data/backGround/sign/*.png')"
   ]
  },
  {
   "cell_type": "code",
   "execution_count": 16,
   "metadata": {},
   "outputs": [
    {
     "name": "stdout",
     "output_type": "stream",
     "text": [
      "22\n",
      "./data/backGround/New/draw/GEN_124.png\n",
      "375 395 195 215\n",
      "77 97 925 945\n",
      "783 803 220 240\n",
      "1095 1115 550 570\n",
      "181 201 191 206\n",
      "1438 1458 138 153\n",
      "632 652 933 953\n",
      "276 296 787 807\n",
      "1520 1540 416 436\n",
      "635 655 629 649\n",
      "1145 1165 63 74\n",
      "168 188 588 599\n",
      "409 429 880 891\n",
      "896 916 969 980\n",
      "1337 1357 645 659\n",
      "1550 1570 944 958\n",
      "242 262 634 654\n",
      "398 418 815 835\n",
      "1151 1171 584 604\n",
      "1382 1402 943 963\n",
      "958 978 213 224\n",
      "366 386 171 182\n"
     ]
    }
   ],
   "source": [
    "dr_fileName = './data/backGround/draw/10f.png'\n",
    "\n",
    "l_img =  cv2.imread(dr_fileName)\n",
    "h,w,d = l_img.shape\n",
    "    \n",
    "sign_data = glob('./data/backGround/sign/*.png')\n",
    "\n",
    "signList=[]\n",
    "# set a color RGB\n",
    "r2,g2,b2 = 255, 0, 0\n",
    "\n",
    "# set an amoumnt of sign\n",
    "\n",
    "DT_002_amount = 2\n",
    "DT_001_amount = 2\n",
    "SM_142_amount = 2\n",
    "DT_143_amount = 2\n",
    "SM_126_amount = 2\n",
    "SM_100_amount = 2\n",
    "DT_150_amount = 2\n",
    "MD_019_amount = 2\n",
    "DT_131_amount = 2\n",
    "DT_127_amount = 2\n",
    "DT_177_amount = 2\n",
    "\n",
    "signAmount = [DT_002_amount,DT_001_amount, SM_142_amount, DT_143_amount, SM_126_amount,SM_100_amount, DT_150_amount, MD_019_amount, DT_131_amount, DT_127_amount, DT_177_amount]\n",
    "total = sum(signAmount)\n",
    "\n",
    "\n",
    "new_fileName  =  'GEN_'+str(int(random.random()*1000))+'.png'\n",
    "new_dirFileName = './data/backGround/New/draw/'+ new_fileName\n",
    "\n",
    "\n",
    "\n",
    "root = etree.Element(\"annotation\")\n",
    "\n",
    "folder = etree.SubElement(root, \"folder\").text ='draw'  \n",
    "filename =  etree.SubElement(root, \"filename\").text = new_fileName    \n",
    "path =  etree.SubElement(root, \"path\").text = new_dirFileName\n",
    "\n",
    "source =  etree.SubElement(root, \"source\")\n",
    "database =  etree.SubElement(source, \"database\").text= 'Unknown'     \n",
    "    \n",
    "size =  etree.SubElement(root, \"size\")\n",
    "width =  etree.SubElement(size, \"width\").text = str(w)\n",
    "height =  etree.SubElement(size, \"height\").text = str(h)\n",
    "depth =  etree.SubElement(size, \"depth\").text = str(d)\n",
    "\n",
    "segmented =  etree.SubElement(root, \"segmented\").text = '0'\n",
    "\n",
    "\n",
    "print(total) # 생성할 기호의 총합\n",
    "print(new_dirFileName) #생성될 도면의 경로\n",
    "\n",
    "\n",
    "xmin = random.sample(range(50, w), total)\n",
    "ymin = random.sample(range(50, h), total)\n",
    "    \n",
    "location = list(zip(xmin,ymin))\n",
    "\n",
    "\n",
    "for i, j in zip(sign_data , signAmount):\n",
    "    \n",
    "    signDir = i\n",
    "    clssName = signDir.split('/sign')[1]\n",
    "    clssName = clssName.split('.png')[0]\n",
    "    \n",
    "    signList.append(clssName)\n",
    "\n",
    "    imDir = ChangeColor(signDir,r2,g2,b2)\n",
    "  \n",
    "    s_img =  cv2.imread(imDir,-1)\n",
    "    alpha_s = s_img[:, :, 3] / 255.0\n",
    "    alpha_l = 1.0 - alpha_s \n",
    "        \n",
    "            \n",
    "    for k in range(0,j):\n",
    "    \n",
    "        x1, y1 = location.pop()\n",
    "        x2 = x1 + s_img.shape[1]\n",
    "        y2 = y1 + s_img.shape[0]\n",
    "               \n",
    "        print(x1, x2, y1, y2)\n",
    "        \n",
    "        obj =  etree.SubElement(root, \"object\")\n",
    "        name =   etree.SubElement(obj, \"name\").text = clssName\n",
    "        poset =   etree.SubElement(obj, \"pose\").text = 'Unspecified'\n",
    "        truncated =   etree.SubElement(obj, \"truncated\").text = '0'\n",
    "        difficult =   etree.SubElement(obj, \"difficult\").text = '0'\n",
    "\n",
    "        bndbox = etree.SubElement(obj, \"bndbox\")\n",
    "        xmin =  etree.SubElement(bndbox, \"xmin\").text = str(x1)\n",
    "        ymin =  etree.SubElement(bndbox, \"ymin\").text = str(y1)\n",
    "        xmax =  etree.SubElement(bndbox, \"xmax\").text = str(x2)\n",
    "        ymax =  etree.SubElement(bndbox, \"ymax\").text = str(y2)\n",
    "        \n",
    "        for c in range(0, 3):\n",
    "            l_img[y1:y2, x1:x2, c] = (alpha_s * s_img[:, :, c] + alpha_l * l_img[y1:y2, x1:x2, c])\n",
    "            \n",
    "cv2.imwrite(new_dirFileName, l_img)        \n",
    "tree = etree.ElementTree(root)\n",
    " \n",
    "with open('./data/backGround/annotations/'+'GEN_'+str(int(random.random()*1000))+'xml', \"bw\") as fh:\n",
    "    tree.write(fh)\n",
    "    \n",
    "      "
   ]
  },
  {
   "cell_type": "code",
   "execution_count": null,
   "metadata": {},
   "outputs": [],
   "source": []
  }
 ],
 "metadata": {
  "kernelspec": {
   "display_name": "Python 3",
   "language": "python",
   "name": "python3"
  },
  "language_info": {
   "codemirror_mode": {
    "name": "ipython",
    "version": 3
   },
   "file_extension": ".py",
   "mimetype": "text/x-python",
   "name": "python",
   "nbconvert_exporter": "python",
   "pygments_lexer": "ipython3",
   "version": "3.6.8"
  }
 },
 "nbformat": 4,
 "nbformat_minor": 4
}
