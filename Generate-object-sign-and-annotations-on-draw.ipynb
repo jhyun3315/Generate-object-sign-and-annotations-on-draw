{
 "cells": [
  {
   "cell_type": "markdown",
   "metadata": {},
   "source": [
    "# Generate object(sign) and annotations on draw"
   ]
  },
  {
   "cell_type": "code",
   "execution_count": 1,
   "metadata": {},
   "outputs": [],
   "source": [
    "%matplotlib inline\n",
    "from matplotlib import pyplot as plt\n",
    "import os, sys\n",
    "from glob import glob\n",
    "from matplotlib import pyplot\n",
    "from PIL import Image\n",
    "from PIL import ImageFilter\n",
    "import numpy as np\n",
    "\n",
    "from lxml import etree\n",
    "import xml.etree.ElementTree as xml\n",
    "import random\n",
    "import cv2"
   ]
  },
  {
   "cell_type": "code",
   "execution_count": 2,
   "metadata": {},
   "outputs": [],
   "source": [
    "draw_data = glob('./data/backGround/draw/*.png')\n",
    "annotaions_data = glob('./data/backGround/annotations/*.xml')\n",
    "sign_data = glob('./data/backGround/sign/*.png')\n",
    "\n",
    "# Reshape Sign \n",
    "size = 20, 20\n",
    "\n",
    "for s in sign_data:\n",
    "    im = Image.open(s)\n",
    "    im.thumbnail(size, Image.ANTIALIAS)\n",
    "    im = im.convert(\"RGBA\")\n",
    "    datas = im.getdata()\n",
    "    newData = []\n",
    "    for item in datas:\n",
    "        if item[0] > 200 and item[1] > 200 and item[2] > 200:\n",
    "            newData.append((item[0], item[1], item[2], 0))\n",
    "        else:\n",
    "            newData.append(item)\n",
    "\n",
    "    im.putdata(newData)\n",
    "    im.save(s)"
   ]
  },
  {
   "cell_type": "markdown",
   "metadata": {},
   "source": [
    "# Change color of sign"
   ]
  },
  {
   "cell_type": "code",
   "execution_count": 20,
   "metadata": {},
   "outputs": [],
   "source": [
    "def ChangeColor(inputImg,r2,g2,b2):\n",
    "    \n",
    "    im = Image.open(inputImg)\n",
    "    im = im.filter(ImageFilter.MaxFilter(size = 3)) \n",
    "    \n",
    "    im = np.array(im)\n",
    "    ret, im = cv2.threshold(im, 247, 255, cv2.THRESH_TOZERO)\n",
    "    data = im\n",
    "    \n",
    "    cv2.imwrite('./data/backGround/sign/COR_tt.png', im)\n",
    "    imName = inputImg.split('sign/')[1]\n",
    "    imName = imName.split('.png')[0]    \n",
    "\n",
    "    r1, g1, b1 = 0, 0, 0 # Original value\n",
    "    r2, g2, b2 = r2,g2,b2 # Value that we want to replace it with\n",
    "\n",
    "    red, green, blue = data[:,:,0], data[:,:,1], data[:,:,2]\n",
    "    mask = (red == r1) & (green == g1) & (blue == b1)\n",
    "    data[:,:,:3][mask] = [r2, g2, b2]\n",
    "\n",
    "    im = Image.fromarray(data)    \n",
    "    imDir = './data/backGround/sign/COR_'+imName+'.png'\n",
    "    im.save(imDir)\n",
    "    \n",
    "    return imDir"
   ]
  },
  {
   "cell_type": "markdown",
   "metadata": {},
   "source": [
    "# Make n-Sign on Draw with loaction(x,y) information "
   ]
  },
  {
   "cell_type": "code",
   "execution_count": 21,
   "metadata": {},
   "outputs": [],
   "source": [
    "def genData(clss, amount, dr_fileName,r2,g2,b2):\n",
    "    \n",
    "    l_img =  cv2.imread(dr_fileName)\n",
    "    s_img =  cv2.imread('./data/backGround/sign/'+clss+'.png',-1)  \n",
    "    \n",
    "    signDir = './data/backGround/sign/'+clss+'.png'\n",
    "    \n",
    "    alpha_s = s_img[:, :, 3] / 255.0\n",
    "    alpha_l = 1.0 - alpha_s\n",
    "    \n",
    "    dr_fileName = dr_fileName.split('draw/')[1]\n",
    "    dr_fileName = dr_fileName.split('.png')[0]    \n",
    "    \n",
    "    new_dirFileName = './data/draw/dataset/GN_'+dr_fileName+str(random.random())+'.png'          \n",
    "    new_fileName  = new_dirFileName .split('dataset/')[1]\n",
    "\n",
    "    imName = ChangeColor(signDir,r2,g2,b2)\n",
    "    s_img =  cv2.imread(imName,-1)\n",
    "          \n",
    "    h,w,d = l_img.shape\n",
    "      \n",
    "    # make annotations file\n",
    "    root = etree.Element(\"annotation\")\n",
    "\n",
    "    folder = etree.SubElement(root, \"folder\").text ='draw'  \n",
    "    filename =  etree.SubElement(root, \"filename\").text = new_fileName    \n",
    "    path =  etree.SubElement(root, \"path\").text = new_dirFileName\n",
    "\n",
    "    source =  etree.SubElement(root, \"source\")\n",
    "    database =  etree.SubElement(source, \"database\").text= 'Unknown'     \n",
    "    \n",
    "    size =  etree.SubElement(root, \"size\")\n",
    "    width =  etree.SubElement(size, \"width\").text = str(w)\n",
    "    height =  etree.SubElement(size, \"height\").text = str(h)\n",
    "    depth =  etree.SubElement(size, \"depth\").text = str(d)\n",
    "\n",
    "    segmented =  etree.SubElement(root, \"segmented\").text = '0'\n",
    "    \n",
    "       \n",
    "    # generate signs and annotaion files.                 \n",
    "    for i in range(amount):    \n",
    "               \n",
    "        xmin = random.randrange(100,w)\n",
    "        ymin = random.randrange(100,h)\n",
    "                \n",
    "        #x_offset=y_offset=16\n",
    "        \n",
    "        x1, x2 = xmin,  xmin + s_img.shape[1] \n",
    "        y1, y2 = ymin,  ymin + s_img.shape[0] \n",
    "        \n",
    "        print(x1, x2, y1, y2)\n",
    "        \n",
    "        obj =  etree.SubElement(root, \"object\")\n",
    "        name =   etree.SubElement(obj, \"name\").text = clss\n",
    "        poset =   etree.SubElement(obj, \"pose\").text = 'Unspecified'\n",
    "        truncated =   etree.SubElement(obj, \"truncated\").text = '0'\n",
    "        difficult =   etree.SubElement(obj, \"difficult\").text = '0'\n",
    "        \n",
    "        bndbox = etree.SubElement(obj, \"bndbox\")\n",
    "        xmin =  etree.SubElement(bndbox, \"xmin\").text = str(x1)\n",
    "        ymin =  etree.SubElement(bndbox, \"ymin\").text = str(y1)\n",
    "        xmax =  etree.SubElement(bndbox, \"xmax\").text = str(x2)\n",
    "        ymax =  etree.SubElement(bndbox, \"ymax\").text = str(y2)\n",
    "        \n",
    "        for c in range(0, 3):\n",
    "            l_img[y1:y2, x1:x2, c] = (alpha_s * s_img[:, :, c] + alpha_l * l_img[y1:y2, x1:x2, c])\n",
    "\n",
    "    cv2.imwrite(new_fileName, l_img)        \n",
    "    tree = etree.ElementTree(root)\n",
    "    \n",
    "    with open('./data/backGround/'+new_fileName+'.xml', \"bw\") as fh:\n",
    "        tree.write(fh)\n",
    "         \n",
    "      "
   ]
  },
  {
   "cell_type": "code",
   "execution_count": 22,
   "metadata": {},
   "outputs": [
    {
     "name": "stdout",
     "output_type": "stream",
     "text": [
      "1527 1547 124 135\n",
      "275 295 878 889\n",
      "990 1010 909 920\n",
      "228 248 738 749\n",
      "850 870 446 457\n",
      "426 446 578 589\n",
      "270 290 425 436\n",
      "512 532 334 345\n",
      "312 332 687 698\n",
      "581 601 484 495\n"
     ]
    }
   ],
   "source": [
    "genData('DT_150',10, './data/backGround/draw/b1.png',255,255,72)"
   ]
  },
  {
   "cell_type": "code",
   "execution_count": null,
   "metadata": {},
   "outputs": [],
   "source": []
  },
  {
   "cell_type": "code",
   "execution_count": null,
   "metadata": {},
   "outputs": [],
   "source": []
  },
  {
   "cell_type": "code",
   "execution_count": null,
   "metadata": {},
   "outputs": [],
   "source": []
  }
 ],
 "metadata": {
  "kernelspec": {
   "display_name": "Python 3",
   "language": "python",
   "name": "python3"
  },
  "language_info": {
   "codemirror_mode": {
    "name": "ipython",
    "version": 3
   },
   "file_extension": ".py",
   "mimetype": "text/x-python",
   "name": "python",
   "nbconvert_exporter": "python",
   "pygments_lexer": "ipython3",
   "version": "3.6.8"
  }
 },
 "nbformat": 4,
 "nbformat_minor": 4
}
