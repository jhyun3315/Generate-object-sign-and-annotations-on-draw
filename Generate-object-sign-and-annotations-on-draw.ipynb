{
 "cells": [
  {
   "cell_type": "markdown",
   "metadata": {},
   "source": [
    "# Generate object(sign) and annotations on draw"
   ]
  },
  {
   "cell_type": "code",
   "execution_count": 135,
   "metadata": {},
   "outputs": [],
   "source": [
    "%matplotlib inline\n",
    "from matplotlib import pyplot as plt\n",
    "import os, sys\n",
    "from glob import glob\n",
    "from matplotlib import pyplot\n",
    "\n",
    "from PIL import Image\n",
    "from PIL import EpsImagePlugin\n",
    "import math\n",
    "\n",
    "from PIL import ImageFilter\n",
    "import numpy as np\n",
    "\n",
    "from lxml import etree\n",
    "import xml.etree.ElementTree as xml\n",
    "import random\n",
    "import cv2\n",
    "\n",
    "from sklearn.cluster import KMeans"
   ]
  },
  {
   "cell_type": "markdown",
   "metadata": {},
   "source": [
    "# preprocessing (CAD Img)"
   ]
  },
  {
   "cell_type": "code",
   "execution_count": null,
   "metadata": {},
   "outputs": [],
   "source": [
    "im = cv2.imread('./data/dataset/1-f_pan.png')\n",
    "\n",
    "ret1, im1 = cv2.threshold(im,100,255, cv2.THRESH_BINARY_INV)\n",
    "ret2, im2 = cv2.threshold(im,150,255, cv2.THRESH_BINARY_INV)\n",
    "ret3, im3 = cv2.threshold(im,175,255, cv2.THRESH_BINARY_INV)\n",
    "ret4, im4 = cv2.threshold(im,200,255, cv2.THRESH_BINARY_INV)\n",
    "ret5, im5 = cv2.threshold(im,250,255, cv2.THRESH_BINARY_INV)\n",
    "\n",
    "cv2.imwrite('./data/test1.png', im1)\n",
    "cv2.imwrite('./data/test2.png', im2)\n",
    "cv2.imwrite('./data/test3.png', im3)\n",
    "cv2.imwrite('./data/test4.png', im4)\n",
    "cv2.imwrite('./data/test5.png', im5)"
   ]
  },
  {
   "cell_type": "code",
   "execution_count": 97,
   "metadata": {},
   "outputs": [
    {
     "data": {
      "text/plain": [
       "True"
      ]
     },
     "execution_count": 97,
     "metadata": {},
     "output_type": "execute_result"
    }
   ],
   "source": [
    "im = cv2.imread('./data/dataset/1-f_pan.png')\n",
    "ret, imGray = cv2.threshold(im,150,255, cv2.THRESH_BINARY_INV)\n",
    "\n",
    "gray = cv2.cvtColor(imGray, cv2.COLOR_BGR2GRAY)\n",
    "cv2.imwrite('./data/GrayTest.png', gray)"
   ]
  },
  {
   "cell_type": "code",
   "execution_count": 100,
   "metadata": {},
   "outputs": [],
   "source": [
    "im = Image.open('./data/dataset/1-f_pan.png')\n",
    "    \n",
    "data = np.array(im)\n",
    "\n",
    "r1, g1, b1 = 0,0,0  # Original value\n",
    "r2, g2, b2 = 255,255,255 # Value that we want to replace it with\n",
    "\n",
    "red, green, blue = data[:,:,0], data[:,:,1], data[:,:,2]\n",
    "mask = (red == r1) & (green == g1) & (blue == b1)\n",
    "data[:,:,:3][mask] = [r2, g2, b2]\n",
    "\n",
    "im = Image.fromarray(data)    \n",
    "imDir = './data/TTEST.png'\n",
    "im.save(imDir)"
   ]
  },
  {
   "cell_type": "code",
   "execution_count": 98,
   "metadata": {},
   "outputs": [
    {
     "data": {
      "text/plain": [
       "True"
      ]
     },
     "execution_count": 98,
     "metadata": {},
     "output_type": "execute_result"
    }
   ],
   "source": [
    "im = cv2.imread('./data/dataset/1-f_pan.png',cv2.IMREAD_GRAYSCALE)\n",
    "cv2.imwrite('./data/Gray.png', im)\n",
    "\n",
    "ret, imGray = cv2.threshold(im,150,255, cv2.THRESH_BINARY_INV)\n",
    "cv2.imwrite('./data/testGray.png', imGray)"
   ]
  },
  {
   "cell_type": "code",
   "execution_count": 57,
   "metadata": {},
   "outputs": [],
   "source": [
    "im = Image.open('./data/TTEST.png')\n",
    "    \n",
    "data = np.array(im)\n",
    "\n",
    "\n",
    "r1, g1, b1 = 255,255,128  # Original value\n",
    "r2, g2, b2 = 255,0,0 # Value that we want to replace it with\n",
    "\n",
    "red, green, blue = data[:,:,0], data[:,:,1], data[:,:,2]\n",
    "mask = (red == r1) & (green == g1) & (blue == b1)\n",
    "data[:,:,:3][mask] = [r2, g2, b2]\n",
    "\n",
    "im = Image.fromarray(data)    \n",
    "imDir = './data/TTEST22.png'\n",
    "im.save(imDir)"
   ]
  },
  {
   "cell_type": "markdown",
   "metadata": {},
   "source": [
    "# Sign"
   ]
  },
  {
   "cell_type": "code",
   "execution_count": 72,
   "metadata": {},
   "outputs": [
    {
     "data": {
      "text/plain": [
       "True"
      ]
     },
     "execution_count": 72,
     "metadata": {},
     "output_type": "execute_result"
    }
   ],
   "source": [
    "s_img =  cv2.imread('./DT_150.png')\n",
    "\n",
    "\n",
    "blur1 = cv2.blur(s_img, (30,30))\n",
    "blur2 = cv2.GaussianBlur(s_img, (17,17),0)\n",
    "blur3 = cv2.medianBlur(s_img, 11)\n",
    "\n",
    "cv2.imwrite('./TTEST_SIGN1.png',  blur1) \n",
    "cv2.imwrite('./TTEST_SIGN2.png',  blur2) \n",
    "cv2.imwrite('./TTEST_SIGN3.png',  blur3) "
   ]
  },
  {
   "cell_type": "code",
   "execution_count": 103,
   "metadata": {},
   "outputs": [
    {
     "data": {
      "text/plain": [
       "True"
      ]
     },
     "execution_count": 103,
     "metadata": {},
     "output_type": "execute_result"
    }
   ],
   "source": [
    "img =  cv2.imread('./DT_150.png')\n",
    "\n",
    "\n",
    "kernel = np.ones((30, 30), np.uint8)\n",
    "result1 = cv2.erode(img, kernel, iterations = 1)\n",
    "\n",
    "\n",
    "kernel = np.ones((50, 50), np.uint8)\n",
    "result2 = cv2.erode(img, kernel, iterations = 1)\n",
    "\n",
    "kernel = np.ones((70, 70), np.uint8)\n",
    "result3 = cv2.erode(img, kernel, iterations = 1)\n",
    "\n",
    "\n",
    "\n",
    "cv2.imwrite('./TTEST_erode30.png',  result1) \n",
    "cv2.imwrite('./TTEST_erode50.png',  result2) \n",
    "cv2.imwrite('./TTEST_erode70.png',  result3) "
   ]
  },
  {
   "cell_type": "code",
   "execution_count": 108,
   "metadata": {},
   "outputs": [
    {
     "data": {
      "text/plain": [
       "True"
      ]
     },
     "execution_count": 108,
     "metadata": {},
     "output_type": "execute_result"
    }
   ],
   "source": [
    "img =  cv2.imread('./TTEST_erode50.png')\n",
    "\n",
    "kernel = np.ones((15, 15), np.uint8)\n",
    "result = cv2.morphologyEx(img, cv2.MORPH_CLOSE, kernel)\n",
    "\n",
    "\n",
    "cv2.imwrite('./TTEST_erode50_dliate.png',  result ) \n",
    "\n",
    "\n"
   ]
  },
  {
   "cell_type": "code",
   "execution_count": 105,
   "metadata": {},
   "outputs": [
    {
     "data": {
      "text/plain": [
       "True"
      ]
     },
     "execution_count": 105,
     "metadata": {},
     "output_type": "execute_result"
    }
   ],
   "source": [
    "img =  cv2.imread('./DT_150.png')\n",
    "\n",
    "kernel = np.ones((7, 7), np.uint8)\n",
    "result = cv2.morphologyEx(img, cv2.MORPH_CLOSE, kernel)\n",
    "\n",
    "\n",
    "cv2.imwrite('./TTEST_dilate.png',  result ) "
   ]
  },
  {
   "cell_type": "code",
   "execution_count": null,
   "metadata": {},
   "outputs": [],
   "source": [
    "l_img =  cv2.imread('./data/TTEST.png')\n",
    "s_img =  cv2.imread('./DT_150.png',-1)  \n",
    "    \n",
    "alpha_s = s_img[:, :, 3] / 25\n",
    "alpha_l = 1.0 - alpha_s\n",
    "    \n",
    "\n",
    "imName = ChangeColor(signDir,r2,g2,b2)\n",
    "s_img =  cv2.imread(imName,-1)\n",
    "          \n",
    "h,w,d = l_img.shape\n",
    "\n",
    "for c in range(0, 3):\n",
    "    l_img[y1:y2, x1:x2, c] = (alpha_s * s_img[:, :, c] + alpha_l * l_img[y1:y2, x1:x2, c])\n",
    "\n",
    "    cv2.imwrite('./data/TTEST_SIGN.png', l_img)      "
   ]
  },
  {
   "cell_type": "markdown",
   "metadata": {},
   "source": [
    "# preprocessing (Print Img)"
   ]
  },
  {
   "cell_type": "code",
   "execution_count": 19,
   "metadata": {},
   "outputs": [
    {
     "data": {
      "text/plain": [
       "True"
      ]
     },
     "execution_count": 19,
     "metadata": {},
     "output_type": "execute_result"
    }
   ],
   "source": [
    "im = cv2.imread('./data/n_1f.png')\n",
    "ret, im = cv2.threshold(im,200,255, cv2.THRESH_BINARY)\n",
    "cv2.imwrite('./data/Wt_THGray.png', im)\n"
   ]
  },
  {
   "cell_type": "code",
   "execution_count": 2,
   "metadata": {},
   "outputs": [],
   "source": [
    "draw_data = glob('./data/backGround/draw/*.png')\n",
    "annotaions_data = glob('./data/backGround/annotations/*.xml')\n",
    "sign_data = glob('./data/backGround/sign/*.png')\n",
    "\n",
    "# Reshape Sign \n",
    "size = 20, 20\n",
    "\n",
    "for s in sign_data:\n",
    "    im = Image.open(s)\n",
    "    im.thumbnail(size, Image.ANTIALIAS)\n",
    "    im = im.convert(\"RGBA\")\n",
    "    datas = im.getdata()\n",
    "    newData = []\n",
    "    for item in datas:\n",
    "        if item[0] > 200 and item[1] > 200 and item[2] > 200:\n",
    "            newData.append((item[0], item[1], item[2], 0))\n",
    "        else:\n",
    "            newData.append(item)\n",
    "\n",
    "    im.putdata(newData)\n",
    "    im.save(s)"
   ]
  },
  {
   "cell_type": "markdown",
   "metadata": {},
   "source": [
    "----------------------------------"
   ]
  },
  {
   "cell_type": "markdown",
   "metadata": {},
   "source": [
    "# Change color of sign"
   ]
  },
  {
   "cell_type": "code",
   "execution_count": 162,
   "metadata": {},
   "outputs": [],
   "source": [
    "def ChangeColor(inputImg,r2,g2,b2):\n",
    "    \n",
    "    im = Image.open(inputImg)\n",
    "    im = im.filter(ImageFilter.MaxFilter(size = 3)) \n",
    "    \n",
    "    im = np.array(im)\n",
    "    ret, im = cv2.threshold(im, 247, 255, cv2.THRESH_TOZERO)\n",
    "    data = im\n",
    "    \n",
    "    \n",
    "    imName = inputImg.split('sign/')[1]\n",
    "    imName = imName.split('.png')[0]    \n",
    "\n",
    "    r1, g1, b1 = 0, 0, 0 # Original value\n",
    "    r2, g2, b2 = r2,g2,b2 # Value that we want to replace it with\n",
    "\n",
    "    red, green, blue = data[:,:,0], data[:,:,1], data[:,:,2]\n",
    "    mask = (red == r1) & (green == g1) & (blue == b1)\n",
    "    data[:,:,:3][mask] = [r2, g2, b2]\n",
    "\n",
    "    im = Image.fromarray(data)    \n",
    "    imDir = './data/backGround/New/sign/'+imName+'_r'+str(r2)+'g'+str(g2)+'b'+str(b2)+'.png'\n",
    "    im.save(imDir)\n",
    "    \n",
    "    return imDir"
   ]
  },
  {
   "cell_type": "markdown",
   "metadata": {},
   "source": [
    "# Make n-Sign on Draw with loaction(x,y) information "
   ]
  },
  {
   "cell_type": "code",
   "execution_count": 160,
   "metadata": {},
   "outputs": [],
   "source": [
    "def genData(clss, amount, dr_fileName,r2,g2,b2):\n",
    "    \n",
    "    l_img =  cv2.imread(dr_fileName)\n",
    "    s_img =  cv2.imread('./data/backGround/sign/'+clss+'.png',-1)  \n",
    "    \n",
    "    signDir = './data/backGround/sign/'+clss+'.png'\n",
    "    \n",
    "    alpha_s = s_img[:, :, 3] / 255.0\n",
    "    alpha_l = 1.0 - alpha_s\n",
    "    \n",
    "    dr_fileName = dr_fileName.split('draw/')[1]\n",
    "    dr_fileName = dr_fileName.split('.png')[0]    \n",
    "    \n",
    "    new_dirFileName = './data/draw/dataset/GN_'+dr_fileName+str(random.random())+'.png'          \n",
    "    new_fileName  = new_dirFileName .split('dataset/')[1]\n",
    "\n",
    "    imName = ChangeColor(signDir,r2,g2,b2)\n",
    "    s_img =  cv2.imread(imName,-1)\n",
    "          \n",
    "    h,w,d = l_img.shape\n",
    "      \n",
    "    # make annotations file\n",
    "    root = etree.Element(\"annotation\")\n",
    "\n",
    "    folder = etree.SubElement(root, \"folder\").text ='draw'  \n",
    "    filename =  etree.SubElement(root, \"filename\").text = new_fileName    \n",
    "    path =  etree.SubElement(root, \"path\").text = new_dirFileName\n",
    "\n",
    "    source =  etree.SubElement(root, \"source\")\n",
    "    database =  etree.SubElement(source, \"database\").text= 'Unknown'     \n",
    "    \n",
    "    size =  etree.SubElement(root, \"size\")\n",
    "    width =  etree.SubElement(size, \"width\").text = str(w)\n",
    "    height =  etree.SubElement(size, \"height\").text = str(h)\n",
    "    depth =  etree.SubElement(size, \"depth\").text = str(d)\n",
    "\n",
    "    segmented =  etree.SubElement(root, \"segmented\").text = '0'\n",
    "    \n",
    "       \n",
    "    # generate signs and annotaion files.                               \n",
    "    xmin = random.sample(range(100, w), amount)\n",
    "    ymin = random.sample(range(100, h), amount)\n",
    "\n",
    "    location = list(zip(xmin,ymin))\n",
    "        \n",
    "        \n",
    "    for i in range(len(location)):   \n",
    "            \n",
    "        x1, y1  = location[i]\n",
    "        x2 = x1 + s_img.shape[1]\n",
    "        y2 = y1 + s_img.shape[0]\n",
    "               \n",
    "        print(x1, x2, y1, y2)\n",
    "        \n",
    "        obj =  etree.SubElement(root, \"object\")\n",
    "        name =   etree.SubElement(obj, \"name\").text = clss\n",
    "        poset =   etree.SubElement(obj, \"pose\").text = 'Unspecified'\n",
    "        truncated =   etree.SubElement(obj, \"truncated\").text = '0'\n",
    "        difficult =   etree.SubElement(obj, \"difficult\").text = '0'\n",
    "\n",
    "        bndbox = etree.SubElement(obj, \"bndbox\")\n",
    "        xmin =  etree.SubElement(bndbox, \"xmin\").text = str(x1)\n",
    "        ymin =  etree.SubElement(bndbox, \"ymin\").text = str(y1)\n",
    "        xmax =  etree.SubElement(bndbox, \"xmax\").text = str(x2)\n",
    "        ymax =  etree.SubElement(bndbox, \"ymax\").text = str(y2)\n",
    "        \n",
    "        for c in range(0, 3):\n",
    "            l_img[y1:y2, x1:x2, c] = (alpha_s * s_img[:, :, c] + alpha_l * l_img[y1:y2, x1:x2, c])\n",
    "\n",
    "    cv2.imwrite(new_fileName, l_img)        \n",
    "    tree = etree.ElementTree(root)\n",
    "    \n",
    "    with open('./data/backGround/'+new_fileName+'.xml', \"bw\") as fh:\n",
    "        tree.write(fh)\n",
    "               "
   ]
  },
  {
   "cell_type": "code",
   "execution_count": 6,
   "metadata": {},
   "outputs": [
    {
     "name": "stdout",
     "output_type": "stream",
     "text": [
      "1350 1370 635 646\n",
      "1071 1091 288 299\n",
      "267 287 161 172\n",
      "689 709 129 140\n",
      "1570 1590 910 921\n",
      "900 920 435 446\n",
      "1104 1124 778 789\n",
      "1270 1290 195 206\n",
      "343 363 709 720\n",
      "453 473 510 521\n"
     ]
    }
   ],
   "source": [
    "genData('DT_150',10, './data/backGround/draw/b1.png',255,255,72)"
   ]
  },
  {
   "cell_type": "markdown",
   "metadata": {},
   "source": [
    "----------------------------------"
   ]
  },
  {
   "cell_type": "markdown",
   "metadata": {},
   "source": [
    "# 보완하는 중 .."
   ]
  },
  {
   "cell_type": "code",
   "execution_count": null,
   "metadata": {},
   "outputs": [],
   "source": [
    "# Reshape Sign \n",
    "\n",
    "size = 20, 20\n",
    "\n",
    "for s in sign_data:\n",
    "    im = Image.open(s)\n",
    "    im.thumbnail(size, Image.ANTIALIAS)\n",
    "    im = im.convert(\"RGBA\")\n",
    "    datas = im.getdata()\n",
    "    newData = []\n",
    "    for item in datas:\n",
    "        if item[0] > 200 and item[1] > 200 and item[2] > 200:\n",
    "            newData.append((item[0], item[1], item[2], 0))\n",
    "        else:\n",
    "            newData.append(item)\n",
    "\n",
    "    im.putdata(newData)\n",
    "    im.save(s)"
   ]
  },
  {
   "cell_type": "code",
   "execution_count": null,
   "metadata": {},
   "outputs": [],
   "source": []
  },
  {
   "cell_type": "code",
   "execution_count": 120,
   "metadata": {},
   "outputs": [
    {
     "data": {
      "text/plain": [
       "['./data/backGround/sign/DT_002.png',\n",
       " './data/backGround/sign/DT_001.png',\n",
       " './data/backGround/sign/SM_142.png',\n",
       " './data/backGround/sign/DT_143.png',\n",
       " './data/backGround/sign/SM_126.png',\n",
       " './data/backGround/sign/DT_150.png',\n",
       " './data/backGround/sign/MD_019.png',\n",
       " './data/backGround/sign/DT_131.png',\n",
       " './data/backGround/sign/DT_127.png',\n",
       " './data/backGround/sign/DT_177.png']"
      ]
     },
     "execution_count": 120,
     "metadata": {},
     "output_type": "execute_result"
    }
   ],
   "source": [
    "sign_data = glob('./data/backGround/sign/*.png')\n",
    "sign_data "
   ]
  },
  {
   "cell_type": "code",
   "execution_count": 164,
   "metadata": {},
   "outputs": [],
   "source": [
    "draw_data = glob('./data/backGround/draw/*.png')\n",
    "sign_data = glob('./data/backGround/sign/*.png')\n",
    "draw_data = glob('./data/backGround/draw/*.png')\n",
    "\n",
    "for i in draw_data:\n",
    "    im = cv2.imread(i)\n",
    "    ret, imGray = cv2.threshold(im,150,255, cv2.THRESH_BINARY_INV)\n",
    "\n",
    "    gray = cv2.cvtColor(imGray, cv2.COLOR_BGR2GRAY)\n",
    "    cv2.imwrite(i, gray)"
   ]
  },
  {
   "cell_type": "code",
   "execution_count": null,
   "metadata": {},
   "outputs": [],
   "source": []
  },
  {
   "cell_type": "code",
   "execution_count": 173,
   "metadata": {},
   "outputs": [
    {
     "name": "stdout",
     "output_type": "stream",
     "text": [
      "50\n",
      "./data/backGround/New/draw/GEN_1.png\n",
      "1472 1492 67 87\n",
      "1023 1043 388 408\n",
      "303 323 224 244\n",
      "890 910 645 665\n",
      "452 472 594 614\n",
      "623 643 469 489\n",
      "1210 1230 254 274\n",
      "693 713 632 652\n",
      "910 930 855 875\n",
      "1433 1453 118 138\n",
      "660 680 818 833\n"
     ]
    },
    {
     "ename": "ValueError",
     "evalue": "operands could not be broadcast together with shapes (20,20) (15,20) ",
     "output_type": "error",
     "traceback": [
      "\u001b[0;31m---------------------------------------------------------------------------\u001b[0m",
      "\u001b[0;31mValueError\u001b[0m                                Traceback (most recent call last)",
      "\u001b[0;32m<ipython-input-173-a94e29745feb>\u001b[0m in \u001b[0;36m<module>\u001b[0;34m\u001b[0m\n\u001b[1;32m     87\u001b[0m \u001b[0;34m\u001b[0m\u001b[0m\n\u001b[1;32m     88\u001b[0m         \u001b[0;32mfor\u001b[0m \u001b[0mc\u001b[0m \u001b[0;32min\u001b[0m \u001b[0mrange\u001b[0m\u001b[0;34m(\u001b[0m\u001b[0;36m0\u001b[0m\u001b[0;34m,\u001b[0m \u001b[0;36m3\u001b[0m\u001b[0;34m)\u001b[0m\u001b[0;34m:\u001b[0m\u001b[0;34m\u001b[0m\u001b[0;34m\u001b[0m\u001b[0m\n\u001b[0;32m---> 89\u001b[0;31m             \u001b[0ml_img\u001b[0m\u001b[0;34m[\u001b[0m\u001b[0my1\u001b[0m\u001b[0;34m:\u001b[0m\u001b[0my2\u001b[0m\u001b[0;34m,\u001b[0m \u001b[0mx1\u001b[0m\u001b[0;34m:\u001b[0m\u001b[0mx2\u001b[0m\u001b[0;34m,\u001b[0m \u001b[0mc\u001b[0m\u001b[0;34m]\u001b[0m \u001b[0;34m=\u001b[0m \u001b[0;34m(\u001b[0m\u001b[0malpha_s\u001b[0m \u001b[0;34m*\u001b[0m \u001b[0ms_img\u001b[0m\u001b[0;34m[\u001b[0m\u001b[0;34m:\u001b[0m\u001b[0;34m,\u001b[0m \u001b[0;34m:\u001b[0m\u001b[0;34m,\u001b[0m \u001b[0mc\u001b[0m\u001b[0;34m]\u001b[0m \u001b[0;34m+\u001b[0m \u001b[0malpha_l\u001b[0m \u001b[0;34m*\u001b[0m \u001b[0ml_img\u001b[0m\u001b[0;34m[\u001b[0m\u001b[0my1\u001b[0m\u001b[0;34m:\u001b[0m\u001b[0my2\u001b[0m\u001b[0;34m,\u001b[0m \u001b[0mx1\u001b[0m\u001b[0;34m:\u001b[0m\u001b[0mx2\u001b[0m\u001b[0;34m,\u001b[0m \u001b[0mc\u001b[0m\u001b[0;34m]\u001b[0m\u001b[0;34m)\u001b[0m\u001b[0;34m\u001b[0m\u001b[0;34m\u001b[0m\u001b[0m\n\u001b[0m\u001b[1;32m     90\u001b[0m \u001b[0;34m\u001b[0m\u001b[0m\n\u001b[1;32m     91\u001b[0m \u001b[0mcv2\u001b[0m\u001b[0;34m.\u001b[0m\u001b[0mimwrite\u001b[0m\u001b[0;34m(\u001b[0m\u001b[0mnew_dirFileName\u001b[0m\u001b[0;34m,\u001b[0m \u001b[0ml_img\u001b[0m\u001b[0;34m)\u001b[0m\u001b[0;34m\u001b[0m\u001b[0;34m\u001b[0m\u001b[0m\n",
      "\u001b[0;31mValueError\u001b[0m: operands could not be broadcast together with shapes (20,20) (15,20) "
     ]
    }
   ],
   "source": [
    "dr_fileName = './data/backGround/draw/10f.png'\n",
    "\n",
    "l_img =  cv2.imread(dr_fileName)\n",
    "h,w,d = l_img.shape\n",
    "    \n",
    "sign_data = glob('./data/backGround/sign/*.png')\n",
    "\n",
    "signList=[]\n",
    "# set a color RGB\n",
    "r2,g2,b2 = 255, 0, 0\n",
    "\n",
    "# set an amoumnt of sign\n",
    "\n",
    "DT_002_amount = 5\n",
    "DT_001_amount = 5\n",
    "SM_142_amount = 5\n",
    "DT_143_amount = 5\n",
    "SM_126_amount = 5\n",
    "DT_150_amount = 5\n",
    "MD_019_amount = 5\n",
    "DT_131_amount = 5\n",
    "DT_127_amount = 5\n",
    "DT_177_amount = 5\n",
    "\n",
    "signAmount = [DT_002_amount,DT_001_amount, SM_142_amount, DT_143_amount, SM_126_amount, DT_150_amount, MD_019_amount, DT_131_amount, DT_127_amount, DT_177_amount]\n",
    "total = sum(signAmount)\n",
    "\n",
    "new_fileName  =  'GEN_'+str(int(random.random()*10))+'.png'\n",
    "new_dirFileName = './data/backGround/New/draw/'+ new_fileName\n",
    "\n",
    "root = etree.Element(\"annotation\")\n",
    "\n",
    "folder = etree.SubElement(root, \"folder\").text ='draw'  \n",
    "filename =  etree.SubElement(root, \"filename\").text = new_fileName    \n",
    "path =  etree.SubElement(root, \"path\").text = new_dirFileName\n",
    "\n",
    "source =  etree.SubElement(root, \"source\")\n",
    "database =  etree.SubElement(source, \"database\").text= 'Unknown'     \n",
    "    \n",
    "size =  etree.SubElement(root, \"size\")\n",
    "width =  etree.SubElement(size, \"width\").text = str(w)\n",
    "height =  etree.SubElement(size, \"height\").text = str(h)\n",
    "depth =  etree.SubElement(size, \"depth\").text = str(d)\n",
    "\n",
    "segmented =  etree.SubElement(root, \"segmented\").text = '0'\n",
    "\n",
    "print(total)\n",
    "print(new_dirFileName)\n",
    "\n",
    "for i, j  in zip(sign_data , signAmount):\n",
    "    signDir = i\n",
    "    clssName = singDir.split('sign/')[1]\n",
    "    clssName = singDir.split('.png')[0]\n",
    "    signList.append(clssName)\n",
    "\n",
    "    imDir = ChangeColor(signDir,r2,g2,b2)\n",
    "  \n",
    "    s_img =  cv2.imread(imDir,-1)\n",
    "    alpha_s = s_img[:, :, 3] / 255.0\n",
    "    alpha_l = 1.0 - Salpha \n",
    "        \n",
    "    xmin = random.sample(range(50, w), total)\n",
    "    ymin = random.sample(range(50, h), total)\n",
    "    \n",
    "    location = list(zip(xmin,ymin))\n",
    "        \n",
    "        \n",
    "    for i in range(j):   \n",
    "            \n",
    "        x1, y1  = location[i]\n",
    "        x2 = x1 + s_img.shape[1]\n",
    "        y2 = y1 + s_img.shape[0]\n",
    "               \n",
    "        print(x1, x2, y1, y2)\n",
    "        \n",
    "        obj =  etree.SubElement(root, \"object\")\n",
    "        name =   etree.SubElement(obj, \"name\").text = clssName\n",
    "        poset =   etree.SubElement(obj, \"pose\").text = 'Unspecified'\n",
    "        truncated =   etree.SubElement(obj, \"truncated\").text = '0'\n",
    "        difficult =   etree.SubElement(obj, \"difficult\").text = '0'\n",
    "\n",
    "        bndbox = etree.SubElement(obj, \"bndbox\")\n",
    "        xmin =  etree.SubElement(bndbox, \"xmin\").text = str(x1)\n",
    "        ymin =  etree.SubElement(bndbox, \"ymin\").text = str(y1)\n",
    "        xmax =  etree.SubElement(bndbox, \"xmax\").text = str(x2)\n",
    "        ymax =  etree.SubElement(bndbox, \"ymax\").text = str(y2)\n",
    "        \n",
    "        for c in range(0, 3):\n",
    "            l_img[y1:y2, x1:x2, c] = (alpha_s * s_img[:, :, c] + alpha_l * l_img[y1:y2, x1:x2, c])\n",
    "            \n",
    "cv2.imwrite(new_dirFileName, l_img)        \n",
    "tree = etree.ElementTree(root)\n",
    "    \n",
    "with open(new_dirFileName +'.xml', \"bw\") as fh:\n",
    "    tree.write(fh)\n",
    "    \n",
    "    \n",
    "  "
   ]
  },
  {
   "cell_type": "code",
   "execution_count": null,
   "metadata": {},
   "outputs": [],
   "source": []
  },
  {
   "cell_type": "code",
   "execution_count": null,
   "metadata": {},
   "outputs": [],
   "source": []
  },
  {
   "cell_type": "code",
   "execution_count": null,
   "metadata": {},
   "outputs": [],
   "source": []
  },
  {
   "cell_type": "code",
   "execution_count": null,
   "metadata": {},
   "outputs": [],
   "source": []
  },
  {
   "cell_type": "code",
   "execution_count": null,
   "metadata": {},
   "outputs": [],
   "source": []
  }
 ],
 "metadata": {
  "kernelspec": {
   "display_name": "Python 3",
   "language": "python",
   "name": "python3"
  },
  "language_info": {
   "codemirror_mode": {
    "name": "ipython",
    "version": 3
   },
   "file_extension": ".py",
   "mimetype": "text/x-python",
   "name": "python",
   "nbconvert_exporter": "python",
   "pygments_lexer": "ipython3",
   "version": "3.6.8"
  }
 },
 "nbformat": 4,
 "nbformat_minor": 4
}
