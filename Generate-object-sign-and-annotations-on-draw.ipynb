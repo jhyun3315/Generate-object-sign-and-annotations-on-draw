{
 "cells": [
  {
   "cell_type": "markdown",
   "metadata": {},
   "source": [
    "# Generate object(sign) and annotations on draw"
   ]
  },
  {
   "cell_type": "code",
   "execution_count": 85,
   "metadata": {},
   "outputs": [],
   "source": [
    "%matplotlib inline\n",
    "import os\n",
    "from glob import glob\n",
    "from matplotlib import pyplot\n",
    "from PIL import Image\n",
    "import numpy as np\n",
    "\n",
    "import xml.etree.ElementTree as ET\n",
    "import random\n"
   ]
  },
  {
   "cell_type": "code",
   "execution_count": 87,
   "metadata": {},
   "outputs": [],
   "source": [
    "draw_data = glob('./data/backGround/draw/*.png')\n",
    "annotaions_data = glob('./data/backGround/annotations/*.xml')\n",
    "sign_data = glob('./data/backGround/sign/*.png')\n",
    "\n",
    "\n",
    "size = 15, 15\n",
    "\n",
    "for s in sign_data:\n",
    "    im = Image.open(s)\n",
    "    im.thumbnail(size, Image.ANTIALIAS)\n",
    "    im.save(s)"
   ]
  },
  {
   "cell_type": "code",
   "execution_count": 83,
   "metadata": {},
   "outputs": [
    {
     "data": {
      "text/plain": [
       "['./data/backGround/annotations/b2.xml',\n",
       " './data/backGround/annotations/3f.xml',\n",
       " './data/backGround/annotations/b3.xml',\n",
       " './data/backGround/annotations/8f.xml',\n",
       " './data/backGround/annotations/b1.xml',\n",
       " './data/backGround/annotations/2f.xml',\n",
       " './data/backGround/annotations/1f.xml',\n",
       " './data/backGround/annotations/b4.xml',\n",
       " './data/backGround/annotations/4f.xml',\n",
       " './data/backGround/annotations/11f.xml',\n",
       " './data/backGround/annotations/12f.xml',\n",
       " './data/backGround/annotations/9f.xml',\n",
       " './data/backGround/annotations/6f.xml',\n",
       " './data/backGround/annotations/10f.xml',\n",
       " './data/backGround/annotations/7f.xml',\n",
       " './data/backGround/annotations/5f.xml']"
      ]
     },
     "execution_count": 83,
     "metadata": {},
     "output_type": "execute_result"
    }
   ],
   "source": [
    "annotaions_data"
   ]
  },
  {
   "cell_type": "code",
   "execution_count": 84,
   "metadata": {},
   "outputs": [
    {
     "data": {
      "text/plain": [
       "['./data/backGround/draw/7f.png',\n",
       " './data/backGround/draw/8f.png',\n",
       " './data/backGround/draw/12f.png',\n",
       " './data/backGround/draw/5f.png',\n",
       " './data/backGround/draw/b4.png',\n",
       " './data/backGround/draw/b3.png',\n",
       " './data/backGround/draw/9f.png',\n",
       " './data/backGround/draw/2f.png',\n",
       " './data/backGround/draw/3f.png',\n",
       " './data/backGround/draw/b2.png',\n",
       " './data/backGround/draw/1f.png',\n",
       " './data/backGround/draw/6f.png',\n",
       " './data/backGround/draw/4f.png',\n",
       " './data/backGround/draw/10f.png',\n",
       " './data/backGround/draw/11f.png',\n",
       " './data/backGround/draw/b1.png']"
      ]
     },
     "execution_count": 84,
     "metadata": {},
     "output_type": "execute_result"
    }
   ],
   "source": [
    "draw_data "
   ]
  },
  {
   "cell_type": "code",
   "execution_count": null,
   "metadata": {},
   "outputs": [],
   "source": [
    "import xml.etree.cElementTree as ET\n",
    "\n",
    "\n",
    "def makeXml(dr_fileName):\n",
    "\n",
    "    root = ET.Element(\"root\")\n",
    "    doc = ET.SubElement(root, \"doc\")\n",
    "\n",
    "    ET.SubElement(doc, \"field1\", name=\"blah\").text = \"some value1\"\n",
    "    ET.SubElement(doc, \"field2\", name=\"asdfasd\").text = \"some vlaue2\"\n",
    "\n",
    "    tree = ET.ElementTree(root)\n",
    "    tree.write(\"filename.xml\")\n",
    "\n",
    "\n",
    "\n",
    "\n",
    "def makeSign(clss, amount, dr_fileName):\n",
    "    tree = ET.parse(dr_fileName)\n",
    "    root = tree.getroot()\n",
    "    width = root[4][0].text\n",
    "    height = root[4][1].text\n",
    "    depth = root[4][2].text\n",
    "                     \n",
    "    for k in amount:    \n",
    "        xmin = random.sample(range(100,width))\n",
    "        ymin = random.sample(range(100,height))\n",
    "                \n",
    "        xmax = xmin + 16\n",
    "        ymin = ymin + 16\n",
    "                \n",
    "        s_img = cv2.imread(\"./data/backGround/sign/\"+clss+'.png', -1)\n",
    "        s_img.copyTo(dr_fileName(cv::Rect(xmin,ymin,s_img.cols, s_img.rows)));\n",
    "        im = Image.open(i)\n",
    "            \n",
    "    \n",
    "    "
   ]
  },
  {
   "cell_type": "code",
   "execution_count": 88,
   "metadata": {},
   "outputs": [
    {
     "ename": "SyntaxError",
     "evalue": "invalid syntax (<ipython-input-88-c5912b77f688>, line 1)",
     "output_type": "error",
     "traceback": [
      "\u001b[0;36m  File \u001b[0;32m\"<ipython-input-88-c5912b77f688>\"\u001b[0;36m, line \u001b[0;32m1\u001b[0m\n\u001b[0;31m    amount =\u001b[0m\n\u001b[0m             ^\u001b[0m\n\u001b[0;31mSyntaxError\u001b[0m\u001b[0;31m:\u001b[0m invalid syntax\n"
     ]
    }
   ],
   "source": [
    "\n",
    "\n",
    "for i in draw_data:\n",
    "    dr_fileName = i.split('draw/')[1]\n",
    "    dr_fileName = dr_fileName.split('.png')[0]    \n",
    "    for j in annotaions_data:\n",
    "        ann_fileName = j.split('annotations/')[1]\n",
    "        ann_fileName = ann_fileName.split('.xml')[0]\n",
    "        \n",
    "        if dr_fileName == ann_fileName:\n",
    "\n",
    "            \n",
    "\n",
    "\n",
    "            \n",
    "            \n"
   ]
  },
  {
   "cell_type": "code",
   "execution_count": 76,
   "metadata": {},
   "outputs": [],
   "source": [
    "tree = ET.parse(annotaions_data[0])\n",
    "root = tree.getroot()\n",
    "root[0].text"
   ]
  },
  {
   "cell_type": "code",
   "execution_count": null,
   "metadata": {},
   "outputs": [],
   "source": [
    "count = 0\n",
    "\n",
    "for clss in root.iter('name'):\n",
    "    count+=1\n",
    "    if clss.text == ''\n",
    "    print(clss.text)\n",
    "\n",
    "print(count)"
   ]
  },
  {
   "cell_type": "code",
   "execution_count": null,
   "metadata": {},
   "outputs": [],
   "source": []
  },
  {
   "cell_type": "code",
   "execution_count": null,
   "metadata": {},
   "outputs": [],
   "source": []
  },
  {
   "cell_type": "code",
   "execution_count": null,
   "metadata": {},
   "outputs": [],
   "source": []
  },
  {
   "cell_type": "code",
   "execution_count": null,
   "metadata": {},
   "outputs": [],
   "source": []
  },
  {
   "cell_type": "code",
   "execution_count": null,
   "metadata": {},
   "outputs": [],
   "source": []
  },
  {
   "cell_type": "code",
   "execution_count": null,
   "metadata": {},
   "outputs": [],
   "source": []
  },
  {
   "cell_type": "code",
   "execution_count": null,
   "metadata": {},
   "outputs": [],
   "source": []
  }
 ],
 "metadata": {
  "kernelspec": {
   "display_name": "Python 3",
   "language": "python",
   "name": "python3"
  },
  "language_info": {
   "codemirror_mode": {
    "name": "ipython",
    "version": 3
   },
   "file_extension": ".py",
   "mimetype": "text/x-python",
   "name": "python",
   "nbconvert_exporter": "python",
   "pygments_lexer": "ipython3",
   "version": "3.6.8"
  }
 },
 "nbformat": 4,
 "nbformat_minor": 4
}
