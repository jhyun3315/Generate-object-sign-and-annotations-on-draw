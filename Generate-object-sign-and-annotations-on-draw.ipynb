{
 "cells": [
  {
   "cell_type": "markdown",
   "metadata": {},
   "source": [
    "# Generate object(sign) and annotations on draw"
   ]
  },
  {
   "cell_type": "code",
   "execution_count": 1,
   "metadata": {},
   "outputs": [],
   "source": [
    "%matplotlib inline\n",
    "from matplotlib import pyplot as plt\n",
    "import os, sys\n",
    "from glob import glob\n",
    "from matplotlib import pyplot\n",
    "\n",
    "from PIL import Image\n",
    "from PIL import EpsImagePlugin\n",
    "import math\n",
    "\n",
    "from PIL import ImageFilter\n",
    "import numpy as np\n",
    "\n",
    "from lxml import etree\n",
    "import xml.etree.ElementTree as xml\n",
    "import random\n",
    "import cv2\n",
    "\n",
    "from sklearn.cluster import KMeans"
   ]
  },
  {
   "cell_type": "markdown",
   "metadata": {},
   "source": [
    "# preprocessing (Test)"
   ]
  },
  {
   "cell_type": "code",
   "execution_count": 98,
   "metadata": {},
   "outputs": [
    {
     "data": {
      "text/plain": [
       "True"
      ]
     },
     "execution_count": 98,
     "metadata": {},
     "output_type": "execute_result"
    }
   ],
   "source": [
    "im = cv2.imread('./data/dataset/1-f_pan.png',cv2.IMREAD_GRAYSCALE)\n",
    "cv2.imwrite('./data/Gray.png', im)\n",
    "\n",
    "ret, imGray = cv2.threshold(im,150,255, cv2.THRESH_BINARY_INV)\n",
    "cv2.imwrite('./data/testGray.png', imGray)"
   ]
  },
  {
   "cell_type": "code",
   "execution_count": 185,
   "metadata": {},
   "outputs": [],
   "source": [
    "im = Image.open('./data/TTEST.png')\n",
    "    \n",
    "data = np.array(im)\n",
    "\n",
    "\n",
    "r1, g1, b1 = 255,255,128  # Original value\n",
    "r2, g2, b2 = 255,0,0 # Value that we want to replace it with\n",
    "\n",
    "red, green, blue = data[:,:,0], data[:,:,1], data[:,:,2]\n",
    "mask = (red == r1) & (green == g1) & (blue == b1)\n",
    "data[:,:,:3][mask] = [r2, g2, b2]\n",
    "\n",
    "im = Image.fromarray(data)    \n",
    "imDir = './data/TTEST22.png'\n",
    "im.save(imDir)"
   ]
  },
  {
   "cell_type": "code",
   "execution_count": 20,
   "metadata": {},
   "outputs": [
    {
     "data": {
      "text/plain": [
       "True"
      ]
     },
     "execution_count": 20,
     "metadata": {},
     "output_type": "execute_result"
    }
   ],
   "source": [
    "img =  cv2.imread('./DT_150.png')\n",
    "\n",
    "\n",
    "kernel = np.ones((20, 20), np.uint8)\n",
    "result4 = cv2.erode(img, kernel, iterations = 1)\n",
    "\n",
    "kernel = np.ones((30, 30), np.uint8)\n",
    "result1 = cv2.erode(img, kernel, iterations = 1)\n",
    "\n",
    "\n",
    "kernel = np.ones((50, 50), np.uint8)\n",
    "result2 = cv2.erode(img, kernel, iterations = 1)\n",
    "\n",
    "kernel = np.ones((70, 70), np.uint8)\n",
    "result3 = cv2.erode(img, kernel, iterations = 1)\n",
    "\n",
    "\n",
    "cv2.imwrite('./TTEST_erode20.png',  result4) \n",
    "cv2.imwrite('./TTEST_erode30.png',  result1) \n",
    "cv2.imwrite('./TTEST_erode50.png',  result2) \n",
    "cv2.imwrite('./TTEST_erode70.png',  result3) "
   ]
  },
  {
   "cell_type": "code",
   "execution_count": 108,
   "metadata": {},
   "outputs": [
    {
     "data": {
      "text/plain": [
       "True"
      ]
     },
     "execution_count": 108,
     "metadata": {},
     "output_type": "execute_result"
    }
   ],
   "source": [
    "img =  cv2.imread('./TTEST_erode50.png')\n",
    "\n",
    "kernel = np.ones((15, 15), np.uint8)\n",
    "result = cv2.morphologyEx(img, cv2.MORPH_CLOSE, kernel)\n",
    "\n",
    "\n",
    "cv2.imwrite('./TTEST_erode50_dliate.png',  result ) \n"
   ]
  },
  {
   "cell_type": "code",
   "execution_count": 105,
   "metadata": {},
   "outputs": [
    {
     "data": {
      "text/plain": [
       "True"
      ]
     },
     "execution_count": 105,
     "metadata": {},
     "output_type": "execute_result"
    }
   ],
   "source": [
    "img =  cv2.imread('./DT_150.png')\n",
    "\n",
    "kernel = np.ones((7, 7), np.uint8)\n",
    "result = cv2.morphologyEx(img, cv2.MORPH_CLOSE, kernel)\n",
    "\n",
    "\n",
    "cv2.imwrite('./TTEST_dilate.png',  result ) "
   ]
  },
  {
   "cell_type": "markdown",
   "metadata": {},
   "source": [
    "----------------------------------"
   ]
  },
  {
   "cell_type": "markdown",
   "metadata": {},
   "source": [
    "# Preprocessing"
   ]
  },
  {
   "cell_type": "code",
   "execution_count": 87,
   "metadata": {},
   "outputs": [],
   "source": [
    "sign_data = glob('./data/backGround/sign/*.png')\n",
    "# preprocessing (Sign)\n",
    "\n",
    "for s in sign_data:\n",
    "    img = cv2.imread(s)\n",
    "    kernel = np.ones((10, 10), np.uint8)\n",
    "    img = cv2.erode(img, kernel, iterations = 1)\n",
    "    \n",
    "    cv2.imwrite(s, img)  \n",
    "    "
   ]
  },
  {
   "cell_type": "code",
   "execution_count": 88,
   "metadata": {},
   "outputs": [],
   "source": [
    "size = 20, 20\n",
    "\n",
    "for s in sign_data:\n",
    "    im = Image.open(s)\n",
    "    im.thumbnail(size, Image.ANTIALIAS)\n",
    "    im = im.convert(\"RGBA\")\n",
    "    datas = im.getdata()\n",
    "    newData = []\n",
    "    for item in datas:\n",
    "        if item[0] > 200 and item[1] > 200 and item[2] > 200:\n",
    "            newData.append((item[0], item[1], item[2], 0))\n",
    "        else:\n",
    "            newData.append(item)\n",
    "\n",
    "    im.putdata(newData)\n",
    "    im.save(s)"
   ]
  },
  {
   "cell_type": "markdown",
   "metadata": {},
   "source": [
    "# Change color of sign"
   ]
  },
  {
   "cell_type": "code",
   "execution_count": 90,
   "metadata": {},
   "outputs": [],
   "source": [
    "def ChangeColor(inputImg,r2,g2,b2):\n",
    "    \n",
    "    im = Image.open(inputImg)\n",
    "    \n",
    "    im = np.array(im)\n",
    "    ret, im = cv2.threshold(im, 247, 255, cv2.THRESH_TOZERO)\n",
    "    data = im\n",
    "    \n",
    "    \n",
    "    imName = inputImg.split('sign/')[1]\n",
    "    imName = imName.split('.png')[0]    \n",
    "\n",
    "    r1, g1, b1 = 0, 0, 0 # Original value\n",
    "    r2, g2, b2 = r2,g2,b2 # Value that we want to replace it with\n",
    "\n",
    "    red, green, blue = data[:,:,0], data[:,:,1], data[:,:,2]\n",
    "    mask = (red == r1) & (green == g1) & (blue == b1)\n",
    "    data[:,:,:3][mask] = [r2, g2, b2]\n",
    "\n",
    "    im = Image.fromarray(data)    \n",
    "    imDir = './data/backGround/New/sign/'+imName+'_r'+str(r2)+'g'+str(g2)+'b'+str(b2)+'.png'\n",
    "    im.save(imDir)\n",
    "    \n",
    "    return imDir"
   ]
  },
  {
   "cell_type": "markdown",
   "metadata": {},
   "source": [
    "#  Make n-Sign on Draw with loaction(x,y) information "
   ]
  },
  {
   "cell_type": "code",
   "execution_count": 11,
   "metadata": {},
   "outputs": [
    {
     "data": {
      "text/plain": [
       "['./data/backGround/sign/DT_002.png',\n",
       " './data/backGround/sign/DT_001.png',\n",
       " './data/backGround/sign/SM_142.png',\n",
       " './data/backGround/sign/DT_143.png',\n",
       " './data/backGround/sign/SM_126.png',\n",
       " './data/backGround/sign/SM_100.png',\n",
       " './data/backGround/sign/DT_150.png',\n",
       " './data/backGround/sign/MD_019.png',\n",
       " './data/backGround/sign/DT_131.png',\n",
       " './data/backGround/sign/DT_127.png',\n",
       " './data/backGround/sign/DT_177.png']"
      ]
     },
     "execution_count": 11,
     "metadata": {},
     "output_type": "execute_result"
    }
   ],
   "source": [
    "sign_data = glob('./data/backGround/sign/*.png')\n",
    "sign_data "
   ]
  },
  {
   "cell_type": "code",
   "execution_count": 13,
   "metadata": {},
   "outputs": [],
   "source": [
    "draw_data = glob('./data/backGround/draw/*.png')\n",
    "\n",
    "for i in draw_data:\n",
    "    im = cv2.imread(i)\n",
    "    ret, imGray = cv2.threshold(im,150,255, cv2.THRESH_BINARY_INV)\n",
    "\n",
    "    gray = cv2.cvtColor(imGray, cv2.COLOR_BGR2GRAY)\n",
    "    cv2.imwrite(i, gray)"
   ]
  },
  {
   "cell_type": "code",
   "execution_count": 89,
   "metadata": {},
   "outputs": [
    {
     "name": "stdout",
     "output_type": "stream",
     "text": [
      "22\n",
      "./data/backGround/New/draw/GEN_78609.png\n",
      "483 503 270 290\n",
      "1352 1372 340 360\n",
      "930 950 409 429\n",
      "798 818 547 567\n",
      "516 536 344 359\n",
      "946 966 863 878\n",
      "1556 1576 568 588\n",
      "1538 1558 779 799\n",
      "657 677 776 796\n",
      "920 940 974 994\n",
      "1234 1254 283 294\n",
      "164 184 787 798\n",
      "599 619 272 283\n",
      "1458 1478 285 296\n",
      "111 131 804 818\n",
      "997 1017 87 101\n",
      "894 914 498 518\n",
      "635 655 923 943\n",
      "842 862 887 907\n",
      "1101 1121 500 520\n",
      "1294 1314 807 818\n",
      "1531 1551 365 376\n"
     ]
    }
   ],
   "source": [
    "dr_fileName = './data/backGround/draw/10f.png'\n",
    "\n",
    "l_img =  cv2.imread(dr_fileName)\n",
    "h,w,d = l_img.shape\n",
    "    \n",
    "sign_data = glob('./data/backGround/sign/*.png')\n",
    "\n",
    "signList=[]\n",
    "# set a color RGB\n",
    "r2,g2,b2 = 255, 0, 0\n",
    "\n",
    "# set an amoumnt of sign #\n",
    "\n",
    "DT_002_amount = 2\n",
    "DT_001_amount = 2\n",
    "SM_142_amount = 2\n",
    "DT_143_amount = 2\n",
    "SM_126_amount = 2\n",
    "SM_100_amount = 2\n",
    "DT_150_amount = 2\n",
    "MD_019_amount = 2\n",
    "DT_131_amount = 2\n",
    "DT_127_amount = 2\n",
    "DT_177_amount = 2\n",
    "\n",
    "\n",
    "signAmount = [DT_002_amount,DT_001_amount, SM_142_amount, DT_143_amount, SM_126_amount,SM_100_amount, DT_150_amount, MD_019_amount, DT_131_amount, DT_127_amount, DT_177_amount]\n",
    "total = sum(signAmount)\n",
    "\n",
    "\n",
    "new_fileName  =  'GEN_'+str(int(random.random()*100000))+'.png'\n",
    "new_dirFileName = './data/backGround/New/draw/'+ new_fileName\n",
    "\n",
    "\n",
    "root = etree.Element(\"annotation\")\n",
    "\n",
    "folder = etree.SubElement(root, \"folder\").text ='draw'  \n",
    "filename =  etree.SubElement(root, \"filename\").text = new_fileName    \n",
    "path =  etree.SubElement(root, \"path\").text = new_dirFileName\n",
    "\n",
    "source =  etree.SubElement(root, \"source\")\n",
    "database =  etree.SubElement(source, \"database\").text= 'Unknown'     \n",
    "    \n",
    "size =  etree.SubElement(root, \"size\")\n",
    "width =  etree.SubElement(size, \"width\").text = str(w)\n",
    "height =  etree.SubElement(size, \"height\").text = str(h)\n",
    "depth =  etree.SubElement(size, \"depth\").text = str(d)\n",
    "\n",
    "segmented =  etree.SubElement(root, \"segmented\").text = '0'\n",
    "\n",
    "\n",
    "print(total) # 생성할 기호의 총합\n",
    "print(new_dirFileName) #생성될 도면의 경로\n",
    "\n",
    "\n",
    "xmin = random.sample(range(50, w), total)\n",
    "ymin = random.sample(range(50, h), total)\n",
    "    \n",
    "location = list(zip(xmin,ymin))\n",
    "\n",
    "\n",
    "for i, j in zip(sign_data , signAmount):\n",
    "    \n",
    "    signDir = i\n",
    "    clssName = signDir.split('/sign')[1]\n",
    "    clssName = clssName.split('.png')[0]\n",
    "    \n",
    "    signList.append(clssName)\n",
    "\n",
    "    imDir = ChangeColor(signDir,r2,g2,b2)\n",
    "      \n",
    "    s_img =  cv2.imread(imDir,-1)     \n",
    "    alpha_s = s_img[:, :, 3] / 255.0\n",
    "    alpha_l = 1.0 - alpha_s \n",
    "        \n",
    "            \n",
    "    for k in range(0,j):\n",
    "    \n",
    "        x1, y1 = location.pop()\n",
    "        x2 = x1 + s_img.shape[1]\n",
    "        y2 = y1 + s_img.shape[0]\n",
    "               \n",
    "        print(x1, x2, y1, y2)\n",
    "        \n",
    "        obj =  etree.SubElement(root, \"object\")\n",
    "        name =   etree.SubElement(obj, \"name\").text = clssName\n",
    "        poset =   etree.SubElement(obj, \"pose\").text = 'Unspecified'\n",
    "        truncated =   etree.SubElement(obj, \"truncated\").text = '0'\n",
    "        difficult =   etree.SubElement(obj, \"difficult\").text = '0'\n",
    "\n",
    "        bndbox = etree.SubElement(obj, \"bndbox\")\n",
    "        xmin =  etree.SubElement(bndbox, \"xmin\").text = str(x1)\n",
    "        ymin =  etree.SubElement(bndbox, \"ymin\").text = str(y1)\n",
    "        xmax =  etree.SubElement(bndbox, \"xmax\").text = str(x2)\n",
    "        ymax =  etree.SubElement(bndbox, \"ymax\").text = str(y2)\n",
    "        \n",
    "        for c in range(0, 3):\n",
    "            l_img[y1:y2, x1:x2, c] = (alpha_s * s_img[:, :, c] + alpha_l * l_img[y1:y2, x1:x2, c])\n",
    "            \n",
    "cv2.imwrite(new_dirFileName, l_img)        \n",
    "tree = etree.ElementTree(root)\n",
    " \n",
    "with open('./data/backGround/annotations/'+'GEN_'+str(int(random.random()*100000))+'xml', \"bw\") as fh:\n",
    "    tree.write(fh)\n",
    "    \n",
    "      "
   ]
  }
 ],
 "metadata": {
  "kernelspec": {
   "display_name": "Python 3",
   "language": "python",
   "name": "python3"
  },
  "language_info": {
   "codemirror_mode": {
    "name": "ipython",
    "version": 3
   },
   "file_extension": ".py",
   "mimetype": "text/x-python",
   "name": "python",
   "nbconvert_exporter": "python",
   "pygments_lexer": "ipython3",
   "version": "3.6.8"
  }
 },
 "nbformat": 4,
 "nbformat_minor": 4
}
